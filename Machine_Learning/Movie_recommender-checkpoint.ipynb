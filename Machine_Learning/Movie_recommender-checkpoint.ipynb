{
 "cells": [
  {
   "cell_type": "code",
   "execution_count": 1,
   "id": "e611c032-e656-4b10-90b4-55ed8627aaea",
   "metadata": {},
   "outputs": [
    {
     "ename": "ModuleNotFoundError",
     "evalue": "No module named 'streamlit'",
     "output_type": "error",
     "traceback": [
      "\u001b[31m---------------------------------------------------------------------------\u001b[39m",
      "\u001b[31mModuleNotFoundError\u001b[39m                       Traceback (most recent call last)",
      "\u001b[36mCell\u001b[39m\u001b[36m \u001b[39m\u001b[32mIn[1]\u001b[39m\u001b[32m, line 4\u001b[39m\n\u001b[32m      2\u001b[39m \u001b[38;5;28;01mfrom\u001b[39;00m\u001b[38;5;250m \u001b[39m\u001b[34;01msklearn\u001b[39;00m\u001b[34;01m.\u001b[39;00m\u001b[34;01mmetrics\u001b[39;00m\u001b[34;01m.\u001b[39;00m\u001b[34;01mpairwise\u001b[39;00m\u001b[38;5;250m \u001b[39m\u001b[38;5;28;01mimport\u001b[39;00m cosine_similarity\n\u001b[32m      3\u001b[39m \u001b[38;5;28;01mfrom\u001b[39;00m\u001b[38;5;250m \u001b[39m\u001b[34;01msklearn\u001b[39;00m\u001b[34;01m.\u001b[39;00m\u001b[34;01mpreprocessing\u001b[39;00m\u001b[38;5;250m \u001b[39m\u001b[38;5;28;01mimport\u001b[39;00m StandardScaler\n\u001b[32m----> \u001b[39m\u001b[32m4\u001b[39m \u001b[38;5;28;01mimport\u001b[39;00m\u001b[38;5;250m \u001b[39m\u001b[34;01mstreamlit\u001b[39;00m\u001b[38;5;250m \u001b[39m\u001b[38;5;28;01mas\u001b[39;00m\u001b[38;5;250m \u001b[39m\u001b[34;01mst\u001b[39;00m\n\u001b[32m      6\u001b[39m \u001b[38;5;66;03m# Load dataset\u001b[39;00m\n\u001b[32m      7\u001b[39m movies = pd.read_csv(\u001b[33m\"\u001b[39m\u001b[33mmovies.csv\u001b[39m\u001b[33m\"\u001b[39m)   \u001b[38;5;66;03m# MovieID, Title\u001b[39;00m\n",
      "\u001b[31mModuleNotFoundError\u001b[39m: No module named 'streamlit'"
     ]
    }
   ],
   "source": [
    "import pandas as pd\n",
    "from sklearn.metrics.pairwise import cosine_similarity\n",
    "from sklearn.preprocessing import StandardScaler\n",
    "import streamlit as st\n",
    "\n",
    "# Load dataset\n",
    "movies = pd.read_csv(\"movies.csv\")   # MovieID, Title\n",
    "ratings = pd.read_csv(\"ratings.csv\") # UserID, MovieID, Rating\n",
    "\n",
    "# Merge datasets\n",
    "data = pd.merge(ratings, movies, on=\"MovieID\")\n",
    "\n",
    "# Create user-item matrix\n",
    "user_movie_matrix = data.pivot_table(index='UserID', columns='Title', values='Rating')\n",
    "\n",
    "# Fill missing values with 0\n",
    "user_movie_matrix_filled = user_movie_matrix.fillna(0)\n",
    "\n",
    "# Compute cosine similarity between items\n",
    "item_similarity = cosine_similarity(user_movie_matrix_filled.T)\n",
    "\n",
    "# Create similarity DataFrame\n",
    "item_similarity_df = pd.DataFrame(item_similarity, index=user_movie_matrix.columns, columns=user_movie_matrix.columns)\n",
    "\n",
    "# Recommend function\n",
    "def recommend_movies(movie_name, n=5):\n",
    "    if movie_name not in item_similarity_df.columns:\n",
    "        return [\"Movie not found!\"]\n",
    "    similar_scores = item_similarity_df[movie_name].sort_values(ascending=False)\n",
    "    recommended = similar_scores.iloc[1:n+1].index.tolist()\n",
    "    return recommended\n",
    "\n",
    "# Streamlit App\n",
    "st.title(\"🎬 Movie Recommendation System\")\n",
    "movie = st.selectbox(\"Select a movie you like:\", user_movie_matrix.columns)\n",
    "if st.button(\"Recommend\"):\n",
    "    results = recommend_movies(movie)\n",
    "    st.write(\"Recommended Movies:\")\n",
    "    for i, m in enumerate(results, start=1):\n",
    "        st.write(f\"{i}. {m}\")\n"
   ]
  },
  {
   "cell_type": "code",
   "execution_count": null,
   "id": "6f84616f-6113-4cee-bb98-362d16ba1709",
   "metadata": {},
   "outputs": [],
   "source": []
  }
 ],
 "metadata": {
  "kernelspec": {
   "display_name": "Python 3 (ipykernel)",
   "language": "python",
   "name": "python3"
  },
  "language_info": {
   "codemirror_mode": {
    "name": "ipython",
    "version": 3
   },
   "file_extension": ".py",
   "mimetype": "text/x-python",
   "name": "python",
   "nbconvert_exporter": "python",
   "pygments_lexer": "ipython3",
   "version": "3.13.5"
  }
 },
 "nbformat": 4,
 "nbformat_minor": 5
}
